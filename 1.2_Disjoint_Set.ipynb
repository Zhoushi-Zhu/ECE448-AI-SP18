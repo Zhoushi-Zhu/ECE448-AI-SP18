{
 "cells": [
  {
   "cell_type": "code",
   "execution_count": 86,
   "metadata": {
    "collapsed": false
   },
   "outputs": [],
   "source": [
    "# Check if two points are in the same union or not\n",
    "# input : foodList\n",
    "\n",
    "class DisjointSet:\n",
    "    disjointSet = []\n",
    "    \n",
    "    def __init__(self, foodList):\n",
    "        for food in foodList:\n",
    "            self.disjointSet.append(-1)\n",
    "    \n",
    "    def find_ind(self, f):\n",
    "        if f >= len(self.disjointSet):\n",
    "            return None\n",
    "        if self.disjointSet[f] < 0:\n",
    "            return f\n",
    "        else:\n",
    "            temp = self.find_ind(self.disjointSet[f])\n",
    "            self.disjointSet[f] = temp\n",
    "            return temp\n",
    "    \n",
    "    def union(self, f1, f2):\n",
    "        ind1 = self.find_ind(f1)\n",
    "        ind2 = self.find_ind(f2)\n",
    "        if ind1 != ind2 and ind1 != None and ind2 != None:\n",
    "            if(self.disjointSet[ind1] > self.disjointSet[ind2]):\n",
    "                self.disjointSet[ind2] = self.disjointSet[ind1] + self.disjointSet[ind2]\n",
    "                self.disjointSet[ind1] = ind2\n",
    "            else:\n",
    "                self.disjointSet[ind1] = self.disjointSet[ind1] + self.disjointSet[ind2]\n",
    "                self.disjointSet[ind2] = ind1\n",
    "        return self.disjointSet\n",
    "            \n",
    "            "
   ]
  },
  {
   "cell_type": "code",
   "execution_count": 87,
   "metadata": {
    "collapsed": true
   },
   "outputs": [],
   "source": [
    "test_set = DisjointSet([0,1,2,3,4,5,6,7])"
   ]
  },
  {
   "cell_type": "code",
   "execution_count": 88,
   "metadata": {
    "collapsed": false
   },
   "outputs": [
    {
     "data": {
      "text/plain": [
       "[-1, -1, -1, -1, -1, -1, -1, -1]"
      ]
     },
     "execution_count": 88,
     "metadata": {},
     "output_type": "execute_result"
    }
   ],
   "source": [
    "test_set.disjointSet"
   ]
  },
  {
   "cell_type": "code",
   "execution_count": null,
   "metadata": {
    "collapsed": true
   },
   "outputs": [],
   "source": []
  }
 ],
 "metadata": {
  "anaconda-cloud": {},
  "kernelspec": {
   "display_name": "Python [conda root]",
   "language": "python",
   "name": "conda-root-py"
  },
  "language_info": {
   "codemirror_mode": {
    "name": "ipython",
    "version": 3
   },
   "file_extension": ".py",
   "mimetype": "text/x-python",
   "name": "python",
   "nbconvert_exporter": "python",
   "pygments_lexer": "ipython3",
   "version": "3.5.2"
  }
 },
 "nbformat": 4,
 "nbformat_minor": 1
}
