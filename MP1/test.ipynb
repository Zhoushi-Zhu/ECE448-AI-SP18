{
 "cells": [
  {
   "cell_type": "code",
   "execution_count": 1,
   "metadata": {
    "collapsed": true
   },
   "outputs": [],
   "source": [
    "def make_comparator(less_than):\n",
    "    def compare(x, y):\n",
    "        if less_than(x, y):\n",
    "            return -1\n",
    "        elif less_than(y, x):\n",
    "            return 1\n",
    "        else:\n",
    "            return 0\n",
    "    return compare\n"
   ]
  },
  {
   "cell_type": "code",
   "execution_count": 21,
   "metadata": {},
   "outputs": [
    {
     "name": "stdout",
     "output_type": "stream",
     "text": [
      "[[0, 0, 0], [3, 0, 4], [3.5, 0, 4], [5, 0, 3], [4, 0, 2], [6, 0, 8], [6, 0, 9], [6, 0, 8], [4.5, 0, 3]]\n",
      "[[0, 0, 0], [4.5, 0, 3], [3.5, 0, 4], [5, 0, 3], [4, 0, 2], [6, 0, 8], [6, 0, 9], [6, 0, 8], [3, 0, 4]]\n",
      "[[0, 0, 0], [3.5, 0, 4], [4, 0, 2], [5, 0, 3], [4.5, 0, 3], [6, 0, 8], [6, 0, 9], [6, 0, 8]]\n"
     ]
    }
   ],
   "source": [
    "dist_list = [[0, 0, 0], [3, 0, 4], [4, 0, 2], [5, 0, 3], [4.5, 0, 3], [6, 0, 8], [6, 0, 9], [6, 0, 8]]\n",
    "temp_dist = [3.5, 0, 4]\n",
    "\n",
    "# init of dist_list variables\n",
    "dl_curr = 0\n",
    "dl_child = 0\n",
    "dl_parent = 0\n",
    "dl_temp = [0, 0, 0]\n",
    "\n",
    "# how to check min\n",
    "dist_list[1]\n",
    "\n",
    "# how to add elements\n",
    "\n",
    "dist_list.append(temp_dist)\n",
    "dl_curr = len(dist_list) - 1\n",
    "\n",
    "while(dl_curr > 1):\n",
    "    dl_parent = int(dl_curr / 2)\n",
    "    if(dist_list[dl_parent][0] + dist_list[dl_parent][1] <= dist_list[dl_curr][0] + dist_list[dl_curr][1]):\n",
    "        break\n",
    "    else:\n",
    "        dl_temp = dist_list[dl_parent]\n",
    "        dist_list[dl_parent] = dist_list[dl_curr]\n",
    "        dist_list[dl_curr] = dl_temp\n",
    "        dl_curr = dl_parent\n",
    "\n",
    "print(dist_list)\n",
    "        \n",
    "# how to remove elements\n",
    "\n",
    "dl_curr = 1\n",
    "\n",
    "dl_temp = dist_list[-1]\n",
    "dist_list[-1] = dist_list[dl_curr]\n",
    "dist_list[dl_curr] = dl_temp\n",
    "print(dist_list)\n",
    "dist_list.pop() # remove the last element\n",
    "\n",
    "while(dl_curr <= int((len(dist_list) - 1) / 2)):\n",
    "    dl_child = dl_curr * 2\n",
    "    if(dist_list[dl_child][0] + dist_list[dl_child][1] > dist_list[dl_child + 1][0] + dist_list[dl_child + 1][1]):\n",
    "        dl_child += 1\n",
    "        \n",
    "    if(dist_list[dl_child][0] + dist_list[dl_child][1] >= dist_list[dl_curr][0] + dist_list[dl_curr][1]):\n",
    "        break\n",
    "    else:\n",
    "        dl_temp = dist_list[dl_child]\n",
    "        dist_list[dl_child] = dist_list[dl_curr]\n",
    "        dist_list[dl_curr] = dl_temp\n",
    "        dl_curr = dl_child\n",
    "\n",
    "print(dist_list)"
   ]
  },
  {
   "cell_type": "code",
   "execution_count": null,
   "metadata": {
    "collapsed": true
   },
   "outputs": [],
   "source": []
  }
 ],
 "metadata": {
  "kernelspec": {
   "display_name": "Python 3",
   "language": "python",
   "name": "python3"
  },
  "language_info": {
   "codemirror_mode": {
    "name": "ipython",
    "version": 3
   },
   "file_extension": ".py",
   "mimetype": "text/x-python",
   "name": "python",
   "nbconvert_exporter": "python",
   "pygments_lexer": "ipython3",
   "version": "3.5.2"
  }
 },
 "nbformat": 4,
 "nbformat_minor": 2
}
