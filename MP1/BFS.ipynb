{
 "cells": [
  {
   "cell_type": "code",
   "execution_count": 2,
   "metadata": {
    "collapsed": true
   },
   "outputs": [],
   "source": [
    "def bfs(ls, start):\n",
    "    # 'start' is the index; int(start/column) is the row number; start%column-1 is the column number\n",
    "    # ls[int(start/column)][start%column-1] = 'P'\n",
    "    stack=[start]\n",
    "    while stack:\n",
    "        ind=stack.pop(0)\n",
    "        #calculate row as 'r', column as 'c', find current content use ls[r][c]\n",
    "        r=int(ind/column)\n",
    "        c=ind%column-1\n",
    "        cur=ls[r][c]\n",
    "        if cur != '%' and cur != 'V':\n",
    "            if cur is '.':\n",
    "                break\n",
    "            #print(r,',',c,ls[r][c])\n",
    "            ls[r][c]='V'\n",
    "            #print(r,',',c,ls[r][c])\n",
    "            # down\n",
    "            if (r+1)<row:\n",
    "                if ls[r+1][c] != 'V' and ls[r+1][c] != '%':\n",
    "                    temp=ind+column\n",
    "                    mazeMap[temp]=ind\n",
    "                    #print(r+1,',',c,ls[r+1][c])\n",
    "                    stack.append(temp)\n",
    "            # up\n",
    "            if (r-1)>=0:\n",
    "                if ls[r-1][c] != 'V' and ls[r-1][c] != '%':\n",
    "                    temp=ind-column\n",
    "                    mazeMap[temp]=ind\n",
    "                    #print(r-1,',',c,ls[r-1][c])\n",
    "                    stack.append(temp)\n",
    "            # right\n",
    "            if (c+1)<column:\n",
    "                if ls[r][c+1] != 'V' and ls[r][c+1] != '%':\n",
    "                    temp=ind+1                  \n",
    "                    mazeMap[temp]=ind\n",
    "                    #print(r,',',c+1,ls[r][c+1])\n",
    "                    stack.append(temp)\n",
    "            # left\n",
    "            if (c-1)>=0:\n",
    "                if ls[r][c-1] != 'V' and ls[r][c-1] != '%':\n",
    "                    temp=ind-1                    \n",
    "                    mazeMap[temp]=ind\n",
    "                    #print(r,',',c-1,ls[r][c-1])\n",
    "                    stack.append(temp)"
   ]
  },
  {
   "cell_type": "code",
   "execution_count": null,
   "metadata": {
    "collapsed": true
   },
   "outputs": [],
   "source": []
  }
 ],
 "metadata": {
  "anaconda-cloud": {},
  "kernelspec": {
   "display_name": "Python 3",
   "language": "python",
   "name": "python3"
  },
  "language_info": {
   "codemirror_mode": {
    "name": "ipython",
    "version": 3
   },
   "file_extension": ".py",
   "mimetype": "text/x-python",
   "name": "python",
   "nbconvert_exporter": "python",
   "pygments_lexer": "ipython3",
   "version": "3.6.1"
  }
 },
 "nbformat": 4,
 "nbformat_minor": 1
}
