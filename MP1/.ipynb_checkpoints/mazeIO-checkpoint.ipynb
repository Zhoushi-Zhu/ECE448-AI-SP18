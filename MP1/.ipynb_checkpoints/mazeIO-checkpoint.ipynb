{
 "cells": [
  {
   "cell_type": "code",
   "execution_count": 55,
   "metadata": {},
   "outputs": [],
   "source": [
    "# CS440_MP01_V1\n",
    "# Team Member:Zhenwei Wu, Yuji Chai, Zhoushi Zhu\n",
    "# function list\n",
    "# drawMaze(ls): print out maze;\n",
    "# heuristic(ls,end): generate distance from target(or 'food'), return a 2D list\n",
    "# drawSol(ls,map): draw solution on maze(or 'origin_mazeList')\n",
    "# bfs(ls, start), dfs(ls, start), A_star(ls),\n",
    "# 1) open text file by fp; \n",
    "# 2) copy text file into mazeList[], use in path searching; \n",
    "# 3) deepcopy origin_mazeList[] from mazeList[], use in drawSol(ls,map).\n",
    "fp = './mediumMaze.txt'\n",
    "mazeList=[]\n",
    "origin_mazeList=[]\n",
    "mazeMap={}\n",
    "row=0\n",
    "column=0\n",
    "ct=0\n",
    "pecman=0\n",
    "food=0\n",
    "\n",
    "with open(fp) as f:  \n",
    "    for line in f:\n",
    "        row+=1\n",
    "        column=len(line)\n",
    "        temp=[]\n",
    "        for a in line:\n",
    "            if(a=='%'):\n",
    "                temp.append('%')\n",
    "                ct+=1\n",
    "            elif(a=='P'):\n",
    "                temp.append('P')\n",
    "                ct+=1\n",
    "                pecman=ct\n",
    "            elif(a=='.'):\n",
    "                temp.append('.')\n",
    "                ct+=1\n",
    "                food=ct\n",
    "            elif(a==' '):\n",
    "                temp.append(' ')\n",
    "                ct+=1\n",
    "        mazeList.append(temp)\n",
    "        \n",
    "import copy\n",
    "origin_mazeList=copy.deepcopy(mazeList)"
   ]
  },
  {
   "cell_type": "code",
   "execution_count": 56,
   "metadata": {},
   "outputs": [],
   "source": [
    "def drawMaze(ls):\n",
    "    for i in ls:\n",
    "        temp=\"\"\n",
    "        for j in i:\n",
    "            temp+=j\n",
    "        print(temp)"
   ]
  },
  {
   "cell_type": "code",
   "execution_count": 57,
   "metadata": {},
   "outputs": [
    {
     "name": "stdout",
     "output_type": "stream",
     "text": [
      "%%%%%%%%%%%%%%%%%%%%%%%%%%%%%%%%%%%%%%%%%%%%%%%%%%%%%%%%%%%%%\n",
      "%P    %       %             %         %     %           %   %\n",
      "%%% %%% % %%%%% %%%%% %%%%% %%% %%%%%%% % %%% % %%%%%%% % %%%\n",
      "%   %         %   % %   % %   %         %   % %     % % %   %\n",
      "% %%% %%% %%% %%% % %%% % %%% % %%%%%% %%%% % %%%%% % % %%% %\n",
      "% %   % %   % %   %   % %                 % %   % % %       %\n",
      "%   %%% % % % % % % % % %%% % %%%%%%% %%% % %%% % % %%%%%%% %\n",
      "% %   %   % %   %   % %   % %     %   %   %     % %   %   % %\n",
      "% %%%%%%% % % %%% %%% %%% % %%% %%% % % %%%%%%%%% %%% % % % %\n",
      "%   %   % %       % % %   %   % %   % % %     %     %   % % %\n",
      "% % %%% % %%% %%%%% % % %%%%% % % %%% % % %%% %%%%% %%%%% %%%\n",
      "% %   % %   %         % %   % %     %   % % %           %   %\n",
      "% %%%%% %%%%% %%%%% %%% % % % %%%%%%%%% % % %%% %%% %%% %%% %\n",
      "%     %       %         % % %         %   %     %     %   % %\n",
      "% %%% %%% %%%%% %%%%% % %%% %%% %%%%% %%%%%% %%%% %%% %%% % %\n",
      "%   %     %     %   % %         % % %   %     %   %     % % %\n",
      "% % %%% %%% %%% %%% % %%% %%%% %% % %%% % %%% % %%% %%% %%% %\n",
      "% %   %   %       %       %       %   %   % % % %     %   % %\n",
      "% % %%% % %%%% %% %%%%%%%%% %%%%% %%% % %%% % % % % %%%%% % %\n",
      "% %     %   %     %       %   %       %     %   % % %   % % %\n",
      "% %%%% %% % % %%%%% %%%%% %%% % %%%% %% %%% %% %% %%% % % % %\n",
      "%         % %           %     %           %           % %  .%\n",
      "%%%%%%%%%%%%%%%%%%%%%%%%%%%%%%%%%%%%%%%%%%%%%%%%%%%%%%%%%%%%%\n",
      "row:  23  ;column:  61\n",
      "pecman:  63  ;food:  1341\n"
     ]
    }
   ],
   "source": [
    "drawMaze(mazeList)\n",
    "print(\"row: \",row,\" ;column: \",column)\n",
    "print(\"pecman: \",pecman,\" ;food: \",food)"
   ]
  },
  {
   "cell_type": "code",
   "execution_count": 1,
   "metadata": {
    "collapsed": true
   },
   "outputs": [],
   "source": [
    "import numpy as np\n",
    "def heuristic(ls,end):\n",
    "    h=[]\n",
    "    xe=int(end/column)\n",
    "    ye=int(end%column-1)\n",
    "    for a in range(len(ls)):\n",
    "        temp=[]\n",
    "        for b in range(len(ls[0])):\n",
    "            #print(a,',',b)\n",
    "            temp.append(abs(xe-a)+abs(ye-b))\n",
    "        h.append(temp)\n",
    "    return h\n",
    "def min_h(h, container):\n",
    "    min = np.inf\n",
    "    res = 0;\n",
    "    for i in range(len(container)):\n",
    "        xe=int(container[i]/column)\n",
    "        ye=int(container[i]%column-1)\n",
    "        if h[ye][xe] < min:\n",
    "            min = h[ye][xe]\n",
    "            res = i\n",
    "    \n",
    "    return container[res]"
   ]
  },
  {
   "cell_type": "code",
   "execution_count": 59,
   "metadata": {},
   "outputs": [],
   "source": [
    "H=heuristic(mazeList,food)"
   ]
  },
  {
   "cell_type": "code",
   "execution_count": 2,
   "metadata": {},
   "outputs": [],
   "source": [
    "def greedy_best_first_search(ls):\n",
    "    stack=[pecman]\n",
    "    \n",
    "    while stack:\n",
    "        ind=min_h(H,stack)\n",
    "        #calculate row as 'r', column as 'c', find current content use ls[r][c]\n",
    "        r=int(ind/column)\n",
    "        c=ind%column-1\n",
    "        cur=ls[r][c]\n",
    "        if cur != '%' and cur != 'V':\n",
    "            if cur is '.':\n",
    "                break\n",
    "            #print(r,',',c,ls[r][c])\n",
    "            ls[r][c]='V'\n",
    "            # around_cur stores information of cells near current cell\n",
    "            # with a format of [ind,distance]\n",
    "            around_cur=[]\n",
    "            # down\n",
    "            if (r+1)<row:\n",
    "                if ls[r+1][c] != 'V' and ls[r+1][c] != '%':\n",
    "                    temp=ind+column\n",
    "                    mazeMap[temp]=ind\n",
    "                    #print(r+1,',',c,ls[r+1][c])\n",
    "                    around_cur.append([temp,H[r+1][c]])\n",
    "            # up\n",
    "            if (r-1)>=0:\n",
    "                if ls[r-1][c] != 'V' and ls[r-1][c] != '%':\n",
    "                    temp=ind-column\n",
    "                    mazeMap[temp]=ind\n",
    "                    #print(r-1,',',c,ls[r-1][c])\n",
    "                    around_cur.append([temp,H[r-1][c]])\n",
    "            # right\n",
    "            if (c+1)<column:\n",
    "                if ls[r][c+1] != 'V' and ls[r][c+1] != '%':\n",
    "                    temp=ind+1                  \n",
    "                    mazeMap[temp]=ind\n",
    "                    #print(r,',',c+1,ls[r][c+1])\n",
    "                    around_cur.append([temp,H[r][c+1]])\n",
    "            # left\n",
    "            if (c-1)>=0:\n",
    "                if ls[r][c-1] != 'V' and ls[r][c-1] != '%':\n",
    "                    temp=ind-1       \n",
    "                    mazeMap[temp]=ind\n",
    "                    #print(r,',',c-1,ls[r][c-1])\n",
    "                    around_cur.append([temp,H[r][c-1]])\n",
    "            # sort around_cur by distance\n",
    "            around_cur=sorted(around_cur, key=lambda a: a[1])\n",
    "            while around_cur:\n",
    "                temp=around_cur.pop()\n",
    "                #print(temp[0])\n",
    "                stack.append(temp[0])"
   ]
  },
  {
   "cell_type": "code",
   "execution_count": 3,
   "metadata": {},
   "outputs": [],
   "source": [
    "# draw solution from food->pecman on mazeList; \n",
    "# need drawMaze(mazeList) to visualize path \n",
    "# ct: total steps\n",
    "       \n",
    "def drawSol(ls,map):\n",
    "    x=food\n",
    "    ct=0\n",
    "    while x != pecman:\n",
    "        #print(x)\n",
    "        r=int(x/column)\n",
    "        c=x%column-1\n",
    "        ls[r][c]='*'\n",
    "        x=mazeMap[x]\n",
    "        ct+=1\n",
    "    return ct"
   ]
  },
  {
   "cell_type": "code",
   "execution_count": 62,
   "metadata": {},
   "outputs": [],
   "source": [
    "greedy_best_first_search(mazeList)"
   ]
  },
  {
   "cell_type": "code",
   "execution_count": 63,
   "metadata": {},
   "outputs": [
    {
     "data": {
      "text/plain": [
       "104"
      ]
     },
     "execution_count": 63,
     "metadata": {},
     "output_type": "execute_result"
    }
   ],
   "source": [
    "drawSol(origin_mazeList,mazeMap)\n",
    "drawSol(mazeList,mazeMap)"
   ]
  },
  {
   "cell_type": "code",
   "execution_count": 64,
   "metadata": {
    "scrolled": true
   },
   "outputs": [
    {
     "name": "stdout",
     "output_type": "stream",
     "text": [
      "%%%%%%%%%%%%%%%%%%%%%%%%%%%%%%%%%%%%%%%%%%%%%%%%%%%%%%%%%%%%%\n",
      "%P**  %       %             %         %     %           %   %\n",
      "%%%*%%% % %%%%% %%%%% %%%%% %%% %%%%%%% % %%% % %%%%%%% % %%%\n",
      "%***%*****    %   % %   % %   %         %   % %     % % %   %\n",
      "%*%%%*%%%*%%% %%% % %%% % %%% % %%%%%% %%%% % %%%%% % % %%% %\n",
      "%*%***% %***% %   %   % %                 % %   % % %       %\n",
      "%***%%% % %*% % % % % % %%% % %%%%%%% %%% % %%% % % %%%%%%% %\n",
      "% %   %   %*%   %   % %   % %     %   %   %     % %   %   % %\n",
      "% %%%%%%% %*% %%% %%% %%% % %%% %%% % % %%%%%%%%% %%% % % % %\n",
      "%   %   % %***    % % %   %   % %   % % %     %     %   % % %\n",
      "% % %%% % %%%*%%%%% % % %%%%% % % %%% % % %%% %%%%% %%%%% %%%\n",
      "% %   % %   %*******  % %   % %     %   % % %           %   %\n",
      "% %%%%% %%%%% %%%%%*%%% % % % %%%%%%%%% % % %%% %%% %%% %%% %\n",
      "%     %       %    *****% % %         %   %     %     %   % %\n",
      "% %%% %%% %%%%% %%%%% %*%%% %%% %%%%% %%%%%% %%%% %%% %%% % %\n",
      "%   %     %     %   % %******** % % %   %     %   %*****% % %\n",
      "% % %%% %%% %%% %%% % %%% %%%%*%% % %%% % %%% % %%%*%%%*%%% %\n",
      "% %   %   %       %       %   ****%   %   % % % %***  %***% %\n",
      "% % %%% % %%%% %% %%%%%%%%% %%%%%*%%% % %%% % % %*% %%%%%*% %\n",
      "% %     %   %     %       %   %  **** %*****%   %*% %   %*% %\n",
      "% %%%% %% % % %%%%% %%%%% %%% % %%%%*%%*%%%*%% %%*%%% % %*% %\n",
      "%         % %           %     %     ****  %*******    % %***%\n",
      "%%%%%%%%%%%%%%%%%%%%%%%%%%%%%%%%%%%%%%%%%%%%%%%%%%%%%%%%%%%%%\n",
      "%%%%%%%%%%%%%%%%%%%%%%%%%%%%%%%%%%%%%%%%%%%%%%%%%%%%%%%%%%%%%\n",
      "%V**VV%VVVVVVV%VVVVVVVVVVVVV%VVVVVVVVV%VVVVV%VVVVVVVVVVV%   %\n",
      "%%%*%%%V%V%%%%%V%%%%%V%%%%%V%%%V%%%%%%%V%V%%%V%V%%%%%%% % %%%\n",
      "%***%*****VVVV%VVV%V%VVV%V%VVV%VVVVVVVVV%VVV%V%VVVVV% % %   %\n",
      "%*%%%*%%%*%%%V%%%V%V%%%V%V%%%V%V%%%%%%V%%%%V%V%%%%%V% % %%% %\n",
      "%*%***%V%***%V%VVV%VVV%V%VVVVVVVVVVVVVVVVV%V%VVV%V%V%       %\n",
      "%***%%%V%V%*%V%V%V%V%V%V%%%V%V%%%%%%%V%%%V%V%%%V%V% %%%%%%% %\n",
      "%V%VVV%VVV%*%VVV%VVV%V%VVV%V%VVVVV%VVV%VVV%VVVVV%V%   %   % %\n",
      "%V%%%%%%%V%*%V%%%V%%%V%%%V%V%%%V%%%V%V%V%%%%%%%%%V%%% % % % %\n",
      "%VVV%VVV%V%***VVVV%V%V%VVV%VVV%V%VVV%V%V%VVVVV%VVVVV%   % % %\n",
      "%V%V%%%V%V%%%*%%%%%V%V%V%%%%%V%V%V%%%V%V%V%%%V%%%%%V%%%%% %%%\n",
      "%V%VVV%V%VVV%*******VV%V%VVV%V%VVVVV%VVV%V%V%VVVVVVVVVVV%   %\n",
      "%V%%%%%V%%%%%V%%%%%*%%%V%V%V%V%%%%%%%%%V%V%V%%%V%%%V%%%V%%% %\n",
      "%VVVVV%VVVVVVV%VVVV*****%V%V%VVVVVVVVV%VVV%VVVVV%VVVVV%VVV% %\n",
      "%V%%%V%%%V%%%%%V%%%%%V%*%%%V%%%V%%%%%V%%%%%%V%%%%V%%%V%%%V% %\n",
      "%VVV%VVVVV%VVVVV%VVV%V%********V%V%V%VVV%VVVVV%VVV%*****%V% %\n",
      "%V%V%%%V%%%V%%%V%%%V%V%%%V%%%%*%%V%V%%%V%V%%%V%V%%%*%%%*%%% %\n",
      "%V%VVV%VVV%VVVVVVV%VVVVVVV%VVV****%VVV%VVV%V%V%V%***VV%***% %\n",
      "%V%V%%%V%V%%%%V%%V%%%%%%%%%V%%%%%*%%%V%V%%%V%V%V%*%V%%%%%*% %\n",
      "%V%VVVVV%VVV%VVVVV%VVVVVVV%VVV%VV****V%*****%VVV%*%V%VVV%*% %\n",
      "%V%%%%V%%V%V%V%%%%%V%%%%%V%%%V%V%%%%*%%*%%%*%%V%%*%%%V%V%*% %\n",
      "%VVVVVVVVV%V%VVVVVVVVVVV%VVVVV%VVVVV****VV%*******VVVV%V%***%\n",
      "%%%%%%%%%%%%%%%%%%%%%%%%%%%%%%%%%%%%%%%%%%%%%%%%%%%%%%%%%%%%%\n"
     ]
    }
   ],
   "source": [
    "drawMaze(origin_mazeList)\n",
    "drawMaze(mazeList)"
   ]
  },
  {
   "cell_type": "code",
   "execution_count": null,
   "metadata": {
    "collapsed": true
   },
   "outputs": [],
   "source": []
  },
  {
   "cell_type": "code",
   "execution_count": null,
   "metadata": {
    "collapsed": true
   },
   "outputs": [],
   "source": []
  }
 ],
 "metadata": {
  "anaconda-cloud": {},
  "kernelspec": {
   "display_name": "Python 3",
   "language": "python",
   "name": "python3"
  },
  "language_info": {
   "codemirror_mode": {
    "name": "ipython",
    "version": 3
   },
   "file_extension": ".py",
   "mimetype": "text/x-python",
   "name": "python",
   "nbconvert_exporter": "python",
   "pygments_lexer": "ipython3",
   "version": "3.6.1"
  }
 },
 "nbformat": 4,
 "nbformat_minor": 1
}
