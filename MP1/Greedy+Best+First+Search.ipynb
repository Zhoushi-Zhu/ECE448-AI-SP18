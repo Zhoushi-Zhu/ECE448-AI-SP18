{
 "cells": [
  {
   "cell_type": "code",
   "execution_count": 3,
   "metadata": {
    "collapsed": true
   },
   "outputs": [],
   "source": [
    "import numpy as np\n",
    "def heuristic(ls,end):\n",
    "    h=[]\n",
    "    xe=int(end/column)\n",
    "    ye=int(end%column-1)\n",
    "    for a in range(len(ls)):\n",
    "        temp=[]\n",
    "        for b in range(len(ls[0])):\n",
    "            #print(a,',',b)\n",
    "            temp.append(abs(xe-a)+abs(ye-b))\n",
    "        h.append(temp)\n",
    "    return h\n",
    "\n",
    "H=heuristic(mazeList,food)\n",
    "def min_h(container):\n",
    "    min = np.inf\n",
    "    res = 0;\n",
    "    for i in range(len(container)):\n",
    "        xe=int(container[i]/column)\n",
    "        ye=int(container[i]%column-1)\n",
    "        if H[xe][ye] < min:\n",
    "            min = H[xe][ye]\n",
    "            res = i\n",
    "    \n",
    "    return res"
   ]
  },
  {
   "cell_type": "code",
   "execution_count": 6,
   "metadata": {
    "collapsed": true
   },
   "outputs": [],
   "source": [
    "def greedy_best_first_search(ls):\n",
    "    stack=[pecman]\n",
    "    \n",
    "    while stack:\n",
    "        res=min_h(stack)\n",
    "        ind = stack[res]\n",
    "        del stack[res]\n",
    "        #print(ind)\n",
    "        #calculate row as 'r', column as 'c', find current content use ls[r][c]\n",
    "        r=int(ind/column)\n",
    "        c=ind%column-1\n",
    "        cur=ls[r][c]\n",
    "        #print(cur)\n",
    "        if cur != '%' and cur != 'V':\n",
    "            if cur is '.':\n",
    "                break\n",
    "            #print(r,',',c,ls[r][c])\n",
    "            ls[r][c]='V'\n",
    "            \n",
    "            # around_cur stores information of cells near current cell\n",
    "            # with a format of [ind,distance]\n",
    "            around_cur=[]\n",
    "            # down\n",
    "            if (r+1)<row:\n",
    "                if ls[r+1][c] != 'V' and ls[r+1][c] != '%':\n",
    "                    temp=ind+column\n",
    "                    mazeMap[temp]=ind\n",
    "                    #print(r+1,',',c,ls[r+1][c])\n",
    "                    stack.append(temp)\n",
    "            # up\n",
    "            if (r-1)>=0:\n",
    "                if ls[r-1][c] != 'V' and ls[r-1][c] != '%':\n",
    "                    temp=ind-column\n",
    "                    mazeMap[temp]=ind\n",
    "                    #print(r-1,',',c,ls[r-1][c])\n",
    "                    stack.append(temp)\n",
    "            # right\n",
    "            if (c+1)<column:\n",
    "                if ls[r][c+1] != 'V' and ls[r][c+1] != '%':\n",
    "                    temp=ind+1                  \n",
    "                    mazeMap[temp]=ind\n",
    "                    #print(r,',',c+1,ls[r][c+1])\n",
    "                    stack.append(temp)\n",
    "            # left\n",
    "            if (c-1)>=0:\n",
    "                if ls[r][c-1] != 'V' and ls[r][c-1] != '%':\n",
    "                    temp=ind-1       \n",
    "                    mazeMap[temp]=ind\n",
    "                    #print(r,',',c-1,ls[r][c-1])\n",
    "                    stack.append(temp)"
   ]
  },
  {
   "cell_type": "code",
   "execution_count": 4,
   "metadata": {},
   "outputs": [
    {
     "name": "stdout",
     "output_type": "stream",
     "text": [
      "[[543, 0], [321, 1], [123, 2]]\n",
      "[123, 2]\n",
      "[321, 1]\n",
      "[543, 0]\n"
     ]
    }
   ],
   "source": [
    "a=[[123,2],[321,1],[543,0]]\n",
    "a=sorted(a, key=lambda a: a[1])\n",
    "print(a)\n",
    "while a:\n",
    "    print(a.pop())"
   ]
  },
  {
   "cell_type": "code",
   "execution_count": null,
   "metadata": {
    "collapsed": true
   },
   "outputs": [],
   "source": []
  }
 ],
 "metadata": {
  "anaconda-cloud": {},
  "kernelspec": {
   "display_name": "Python 3",
   "language": "python",
   "name": "python3"
  },
  "language_info": {
   "codemirror_mode": {
    "name": "ipython",
    "version": 3
   },
   "file_extension": ".py",
   "mimetype": "text/x-python",
   "name": "python",
   "nbconvert_exporter": "python",
   "pygments_lexer": "ipython3",
   "version": "3.6.1"
  }
 },
 "nbformat": 4,
 "nbformat_minor": 1
}
