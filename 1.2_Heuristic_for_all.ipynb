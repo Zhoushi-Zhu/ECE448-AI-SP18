{
 "cells": [
  {
   "cell_type": "code",
   "execution_count": null,
   "metadata": {
    "collapsed": true
   },
   "outputs": [],
   "source": [
    "# calculate distance between two given points\n",
    "# input : two point index\n",
    "# output: distance\n",
    "\n",
    "def distance(ind1, ind2):\n",
    "    x1=int(ind1/column)\n",
    "    y1=int(ind1%column-1)\n",
    "    x2=int(ind2/column)\n",
    "    y2=int(ind2%column-1)\n",
    "    return abs(x1-x2)+abs(y1-y2)\n",
    "\n",
    "# heuristic function to generate distance between all points (foods and pecman)\n",
    "# input : foodList\n",
    "# output : a list with format [p1, p2, distance]\n",
    "\n",
    "def hForAll(foodList):\n",
    "    h_for_all = []\n",
    "    for i in len(foodList):\n",
    "        for j in len(foodList):\n",
    "            if foodList[i] != foodList[j]:\n",
    "                temp = [i,j,distance(foodList[i],foodList[j])]\n",
    "                h_for_all.append(temp)\n",
    "    return h_for_all"
   ]
  }
 ],
 "metadata": {
  "anaconda-cloud": {},
  "kernelspec": {
   "display_name": "Python [conda root]",
   "language": "python",
   "name": "conda-root-py"
  },
  "language_info": {
   "codemirror_mode": {
    "name": "ipython",
    "version": 3
   },
   "file_extension": ".py",
   "mimetype": "text/x-python",
   "name": "python",
   "nbconvert_exporter": "python",
   "pygments_lexer": "ipython3",
   "version": "3.5.2"
  }
 },
 "nbformat": 4,
 "nbformat_minor": 1
}
