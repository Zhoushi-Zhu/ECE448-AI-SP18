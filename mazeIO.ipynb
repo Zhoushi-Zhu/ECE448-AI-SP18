{
 "cells": [
  {
   "cell_type": "code",
   "execution_count": 23,
   "metadata": {},
   "outputs": [],
   "source": [
    "# CS440_MP01_V1\n",
    "# Team Member:Zhenwei Wu, Yuji Chai, Zhoushi Zhu\n",
    "# function list\n",
    "# drawMaze(ls): print out maze;\n",
    "# heuristic(ls,end): generate distance from target(or 'food'), return a 2D list\n",
    "# drawSol(ls,map): draw solution on maze(or 'origin_mazeList')\n",
    "# bfs(ls, start), dfs(ls, start), A_star(ls),\n",
    "# 1) open text file by fp; \n",
    "# 2) copy text file into mazeList[], use in path searching; \n",
    "# 3) deepcopy origin_mazeList[] from mazeList[], use in drawSol(ls,map).\n",
    "fp = './bigDots.txt'\n",
    "mazeList=[]\n",
    "origin_mazeList=[]\n",
    "mazeMap={}\n",
    "row=0\n",
    "column=0\n",
    "ct=0\n",
    "pecman=0\n",
    "food=0\n",
    "\n",
    "with open(fp) as f:  \n",
    "    for line in f:\n",
    "        row+=1\n",
    "        column=28\n",
    "        temp=[]\n",
    "        for a in line:\n",
    "            if(a=='%'):\n",
    "                temp.append('%')\n",
    "                ct+=1\n",
    "            elif(a=='P'):\n",
    "                temp.append('P')\n",
    "                ct+=1\n",
    "                pecman=ct\n",
    "            elif(a=='.'):\n",
    "                temp.append('.')\n",
    "                ct+=1\n",
    "                food=ct\n",
    "            elif(a==' '):\n",
    "                temp.append(' ')\n",
    "                ct+=1\n",
    "            else:\n",
    "                temp.append('@')\n",
    "        mazeList.append(temp)\n",
    "        \n",
    "import copy\n",
    "origin_mazeList=copy.deepcopy(mazeList)"
   ]
  },
  {
   "cell_type": "code",
   "execution_count": 24,
   "metadata": {
    "collapsed": true
   },
   "outputs": [],
   "source": [
    "def drawMaze(ls):\n",
    "    for i in ls:\n",
    "        temp=\"\"\n",
    "        for j in i:\n",
    "            temp+=j\n",
    "        print(temp)"
   ]
  },
  {
   "cell_type": "code",
   "execution_count": 25,
   "metadata": {},
   "outputs": [
    {
     "name": "stdout",
     "output_type": "stream",
     "text": [
      "%%%%%%%%%%%%%%%%%%%%%%%%%%%%@\n",
      "%............%%............%@\n",
      "%.%%%%.%%%%%.%%.%%%%%.%%%%.%@\n",
      "%..........................%@\n",
      "%.%%%%.%%.%%%%%%%%.%%.%%%%.%@\n",
      "%......%%....%%....%%......%@\n",
      "%%%%%%.%%%%% %% %%%%%.%%%%%%@\n",
      "%......   %.    .%   ......%@\n",
      "%%%%%%.%% %%%%%%%% %%.%%%%%%@\n",
      "%............%%............%@\n",
      "%.%%%%.%%%%%.%%.%%%%%.%%%%.%@\n",
      "%....%....... P.......%....% @\n",
      "%%%%.%.%%.%%%%%%%%.%%.%.%%%%@\n",
      "%......%%....%%....%%......%@\n",
      "%.%%%%%%%%%%.%%.%%%%%%%%%%.%@\n",
      "%..........................%@\n",
      "%%%%%%%%%%%%%%%%%%%%%%%%%%%%@\n",
      "row:  17  ;column:  28\n",
      "pecman:  323  ;food:  448\n"
     ]
    }
   ],
   "source": [
    "drawMaze(mazeList)\n",
    "print(\"row: \",row,\" ;column: \",column)\n",
    "print(\"pecman: \",pecman,\" ;food: \",food)"
   ]
  },
  {
   "cell_type": "code",
   "execution_count": 90,
   "metadata": {
    "collapsed": true
   },
   "outputs": [],
   "source": [
    "import numpy as np\n",
    "def heuristic(ls,end):\n",
    "    h=[]\n",
    "    xe=int(end/column)\n",
    "    ye=int(end%column-1)\n",
    "    for a in range(len(ls)):\n",
    "        temp=[]\n",
    "        for b in range(len(ls[0])):\n",
    "            #print(a,',',b)\n",
    "            temp.append(abs(xe-a)+abs(ye-b))\n",
    "        h.append(temp)\n",
    "    return h\n",
    "\n",
    "H=heuristic(mazeList,food)\n",
    "def min_h(container):\n",
    "    min = np.inf\n",
    "    res = 0;\n",
    "    for i in range(len(container)):\n",
    "        xe=int(container[i]/column)\n",
    "        ye=int(container[i]%column-1)\n",
    "        if H[xe][ye] < min:\n",
    "            min = H[xe][ye]\n",
    "            res = i\n",
    "    \n",
    "    return res"
   ]
  },
  {
   "cell_type": "code",
   "execution_count": null,
   "metadata": {
    "collapsed": true
   },
   "outputs": [],
   "source": []
  },
  {
   "cell_type": "code",
   "execution_count": 102,
   "metadata": {
    "collapsed": true
   },
   "outputs": [],
   "source": [
    "def greedy_best_first_search(ls):\n",
    "    stack=[pecman]\n",
    "    \n",
    "    while stack:\n",
    "        res=min_h(stack)\n",
    "        ind = stack[res]\n",
    "        del stack[res]\n",
    "        #print(ind)\n",
    "        #calculate row as 'r', column as 'c', find current content use ls[r][c]\n",
    "        r=int(ind/column)\n",
    "        c=ind%column-1\n",
    "        cur=ls[r][c]\n",
    "        #print(cur)\n",
    "        if cur != '%' and cur != 'V':\n",
    "            if cur is '.':\n",
    "                break\n",
    "            #print(r,',',c,ls[r][c])\n",
    "            ls[r][c]='V'\n",
    "            \n",
    "            # around_cur stores information of cells near current cell\n",
    "            # with a format of [ind,distance]\n",
    "            around_cur=[]\n",
    "            # down\n",
    "            if (r+1)<row:\n",
    "                if ls[r+1][c] != 'V' and ls[r+1][c] != '%':\n",
    "                    temp=ind+column\n",
    "                    mazeMap[temp]=ind\n",
    "                    #print(r+1,',',c,ls[r+1][c])\n",
    "                    stack.append(temp)\n",
    "            # up\n",
    "            if (r-1)>=0:\n",
    "                if ls[r-1][c] != 'V' and ls[r-1][c] != '%':\n",
    "                    temp=ind-column\n",
    "                    mazeMap[temp]=ind\n",
    "                    #print(r-1,',',c,ls[r-1][c])\n",
    "                    stack.append(temp)\n",
    "            # right\n",
    "            if (c+1)<column:\n",
    "                if ls[r][c+1] != 'V' and ls[r][c+1] != '%':\n",
    "                    temp=ind+1                  \n",
    "                    mazeMap[temp]=ind\n",
    "                    #print(r,',',c+1,ls[r][c+1])\n",
    "                    stack.append(temp)\n",
    "            # left\n",
    "            if (c-1)>=0:\n",
    "                if ls[r][c-1] != 'V' and ls[r][c-1] != '%':\n",
    "                    temp=ind-1       \n",
    "                    mazeMap[temp]=ind\n",
    "                    #print(r,',',c-1,ls[r][c-1])\n",
    "                    stack.append(temp)"
   ]
  },
  {
   "cell_type": "code",
   "execution_count": 98,
   "metadata": {
    "collapsed": true
   },
   "outputs": [],
   "source": [
    "# draw solution from food->pecman on mazeList; \n",
    "# need drawMaze(mazeList) to visualize path \n",
    "# ct: total steps\n",
    "       \n",
    "def drawSol(ls,map):\n",
    "    x=food\n",
    "    ct=0\n",
    "    while x != pecman:\n",
    "        #print(x)\n",
    "        r=int(x/column)\n",
    "        c=x%column-1\n",
    "        ls[r][c]='*'\n",
    "        x=mazeMap[x]\n",
    "        ct+=1\n",
    "    return ct"
   ]
  },
  {
   "cell_type": "code",
   "execution_count": 99,
   "metadata": {},
   "outputs": [
    {
     "name": "stdout",
     "output_type": "stream",
     "text": [
      "adasda\n"
     ]
    }
   ],
   "source": [
    "greedy_best_first_search(mazeList)"
   ]
  },
  {
   "cell_type": "code",
   "execution_count": 100,
   "metadata": {},
   "outputs": [
    {
     "data": {
      "text/plain": [
       "122"
      ]
     },
     "execution_count": 100,
     "metadata": {},
     "output_type": "execute_result"
    }
   ],
   "source": [
    "drawSol(origin_mazeList,mazeMap)\n",
    "drawSol(mazeList,mazeMap)"
   ]
  },
  {
   "cell_type": "code",
   "execution_count": 101,
   "metadata": {
    "scrolled": true
   },
   "outputs": [
    {
     "name": "stdout",
     "output_type": "stream",
     "text": [
      "%%%%%%%%%%%%%%%%%%%%%%%%%%%%%%%%%%%%%%%%%%%%%%%%%%%%%%%%%%%%%\n",
      "%V**VV%       %             %         %     %           %   %\n",
      "%%%*%%% % %%%%% %%%%% %%%%% %%% %%%%%%% % %%% % %%%%%%% % %%%\n",
      "%***%         %   % %   % %   %         %   % %     % % %   %\n",
      "%*%%% %%% %%% %%% % %%% % %%% % %%%%%% %%%% % %%%%% % % %%% %\n",
      "%*%   % %   % %   %   % %                 % %   % % %       %\n",
      "%*  %%% % % % % % % % % %%% % %%%%%%% %%% % %%% % % %%%%%%% %\n",
      "%*%   %   % %   %   % %   % %     %   %   %     % %   %   % %\n",
      "%*%%%%%%% % % %%% %%% %%% % %%% %%% % % %%%%%%%%% %%% % % % %\n",
      "%*  %   % %       % % %   %   % %   % % %     %     %   % % %\n",
      "%*% %%% % %%% %%%%% % % %%%%% % % %%% % % %%% %%%%% %%%%% %%%\n",
      "%*%   % %   %*******  % %   % %     %   % % %           %   %\n",
      "%*%%%%% %%%%%*%%%%%*%%% % % % %%%%%%%%% % % %%% %%% %%% %%% %\n",
      "%*    %  *****%    ***  % % %         %   %     %     %   % %\n",
      "%*%%% %%%*%%%%% %%%%%*% %%% %%% %%%%% %%%%%% %%%% %%% %%% % %\n",
      "%*  %  ***%     %   %*%  ****** % % %   %     %   %*****% % %\n",
      "%*% %%%*%%% %%% %%% %*%%%*%%%%*%% % %%% % %%% % %%%*%%%*%%% %\n",
      "%*%   %*VV%       %  *****%   ****%   %   % % % %***VV%***% %\n",
      "%*% %%%*%V%%%% %% %%%%%%%%% %%%%%*%%% % %%% % % %*%V%%%%%*% %\n",
      "%*%VVV**%VVV%     %       %   %  **** %*****%   %*%V%VVV%*% %\n",
      "%*%%%%*%%V%V% %%%%% %%%%% %%% % %%%%*%%*%%%*%%V%%*%%%V%V%*% %\n",
      "%******VVV%V%           %     %     ****VV%*******VVVV%V%***%\n",
      "%%%%%%%%%%%%%%%%%%%%%%%%%%%%%%%%%%%%%%%%%%%%%%%%%%%%%%%%%%%%%\n"
     ]
    }
   ],
   "source": [
    "#drawMaze(origin_mazeList)\n",
    "drawMaze(mazeList)"
   ]
  },
  {
   "cell_type": "code",
   "execution_count": null,
   "metadata": {
    "collapsed": true
   },
   "outputs": [],
   "source": []
  },
  {
   "cell_type": "code",
   "execution_count": null,
   "metadata": {
    "collapsed": true
   },
   "outputs": [],
   "source": []
  }
 ],
 "metadata": {
  "anaconda-cloud": {},
  "kernelspec": {
   "display_name": "Python 3",
   "language": "python",
   "name": "python3"
  },
  "language_info": {
   "codemirror_mode": {
    "name": "ipython",
    "version": 3
   },
   "file_extension": ".py",
   "mimetype": "text/x-python",
   "name": "python",
   "nbconvert_exporter": "python",
   "pygments_lexer": "ipython3",
   "version": "3.6.1"
  }
 },
 "nbformat": 4,
 "nbformat_minor": 1
}
